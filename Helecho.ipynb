{
  "cells": [
    {
      "cell_type": "markdown",
      "metadata": {
        "id": "R9OPE4iOqVty"
      },
      "source": [
        "# El helecho de Barsnsley"
      ]
    },
    {
      "cell_type": "markdown",
      "metadata": {
        "id": "50qqyMH_qVt3"
      },
      "source": [
        "El helecho de Barsnsley es el resultado de iterar la siguiente función\n",
        "\n",
        "\\begin{equation}\n",
        "   F(x,y)=\\begin{pmatrix} \n",
        "a & b \\\\\n",
        "c & d \n",
        "\\end{pmatrix}\n",
        "\\begin{pmatrix} \n",
        "x  \\\\\n",
        "y  \n",
        "\\end{pmatrix} + \\begin{pmatrix} \n",
        "e \\\\\n",
        "f\n",
        "\\end{pmatrix}\n",
        "\\end{equation}\n",
        "\n",
        "La cual está definida por casos, y estos dependen de un probalidad $p$\n",
        " \n",
        "| $a$ | $b$ |  $c$ | $d$ | $e$ | $f$ |  $p$  |\n",
        "|-----|:---:|-----:|-----|:---:|----:|------:|\n",
        "|  0  |  0  |   0  | 0.16|  0  |  0  |  $0.01$ |\n",
        "| 0.85| 0.04| -0.04| 0.85|  0  | 1.60|$[0.02,0.86]$|\n",
        "| 0.20|-0.26| 0.23 | 0.22|  0  | 1.60|$[0.87,0.93]$|\n",
        "|-0.15| 0.28| 0.26 | 0.24|  0  | 0.44|$[0.94,1.00]$|"
      ]
    },
    {
      "cell_type": "markdown",
      "metadata": {
        "id": "5NesaLUjqVt4"
      },
      "source": [
        "Usando el objeto ```matrix``` de ```numpy``` defina una función llamada ```F(lista1, lista2)``` que reciba justo dos argumentos, el primer debe ser una lista con los variables $x$ y $y$. Y el segundo argumento debe ser una seguda lista con los coeficientes ($a, b, \\dots , e$).\n",
        "\n",
        "La funcion ```F()``` debe de convertir las repesctivas entradas para que se puedan realizar las respectivas operaciones de matrices."
      ]
    },
    {
      "cell_type": "code",
      "execution_count": 1,
      "metadata": {
        "id": "k9d-KWeNqVt5"
      },
      "outputs": [],
      "source": [
        "import numpy as np\n",
        "from random import *"
      ]
    },
    {
      "cell_type": "code",
      "execution_count": null,
      "metadata": {
        "id": "KoYPNzEGqVt7"
      },
      "outputs": [],
      "source": [
        "R = np.array([1, 2, 3, 4, 5, 6])"
      ]
    },
    {
      "cell_type": "code",
      "execution_count": null,
      "metadata": {
        "id": "A7arN-V_qVt8"
      },
      "outputs": [],
      "source": [
        "A = np.matrix(R[:4].reshape(2, 2))"
      ]
    },
    {
      "cell_type": "code",
      "execution_count": null,
      "metadata": {
        "id": "zAfcZg7TqVt8",
        "outputId": "5ddaa948-94a1-4da9-879d-c3ddc4cbaacf"
      },
      "outputs": [
        {
          "data": {
            "text/plain": [
              "matrix([[1, 2],\n",
              "        [3, 4]])"
            ]
          },
          "execution_count": 39,
          "metadata": {},
          "output_type": "execute_result"
        }
      ],
      "source": [
        "A"
      ]
    },
    {
      "cell_type": "code",
      "execution_count": null,
      "metadata": {
        "id": "eqsAobWYqVt-"
      },
      "outputs": [],
      "source": [
        "V = np.matrix(R[4:].reshape(2,1))"
      ]
    },
    {
      "cell_type": "code",
      "execution_count": null,
      "metadata": {
        "id": "s0umSErZqVt_",
        "outputId": "91bdefa4-8e87-4f58-dada-70b48eccc228"
      },
      "outputs": [
        {
          "data": {
            "text/plain": [
              "matrix([[5],\n",
              "        [6]])"
            ]
          },
          "execution_count": 42,
          "metadata": {},
          "output_type": "execute_result"
        }
      ],
      "source": [
        "V"
      ]
    },
    {
      "cell_type": "code",
      "execution_count": null,
      "metadata": {
        "id": "I-ntbcpuqVuA",
        "outputId": "b08f5c68-95dd-4384-c81d-a329bbf23a1e"
      },
      "outputs": [
        {
          "data": {
            "text/plain": [
              "matrix([[17],\n",
              "        [39]])"
            ]
          },
          "execution_count": 44,
          "metadata": {},
          "output_type": "execute_result"
        }
      ],
      "source": [
        "A*V"
      ]
    },
    {
      "cell_type": "code",
      "execution_count": 2,
      "metadata": {
        "id": "pJQXTjcfqVuB"
      },
      "outputs": [],
      "source": [
        "def F(lista1, lista2):\n",
        "    \"\"\"lista1 es de la forma array([x, y])\n",
        "       lista2 es de la forma array([a,b,c,d,e,f])\"\"\"\n",
        "    \n",
        "    X = np.matrix(lista1.reshape(2,1))\n",
        "    M = np.matrix(lista2[:4].reshape(2, 2))\n",
        "    V = np.matrix(lista2[4:].reshape(2,1))\n",
        "    \n",
        "    return M*X + V"
      ]
    },
    {
      "cell_type": "code",
      "execution_count": null,
      "metadata": {
        "colab": {
          "base_uri": "https://localhost:8080/"
        },
        "id": "nnoqXYitqVuC",
        "outputId": "c82b46e2-b5da-4e3b-cc82-f00ccda33da9"
      },
      "outputs": [
        {
          "data": {
            "text/plain": [
              "matrix([[6],\n",
              "        [9]])"
            ]
          },
          "execution_count": 23,
          "metadata": {},
          "output_type": "execute_result"
        }
      ],
      "source": [
        "F(np.array([1, 0]), np.array([1, 2, 3, 4, 5, 6]))"
      ]
    },
    {
      "cell_type": "markdown",
      "metadata": {
        "id": "8idlK7Z-qVuC"
      },
      "source": [
        "Codifique una segunda función llamada ```volado(n)``` de tal manera que asigne los repectivo valores de los coeficientes para casa valor de $p$. "
      ]
    },
    {
      "cell_type": "markdown",
      "metadata": {
        "id": "sExTMiVbh_LX"
      },
      "source": [
        "La cual está definida por casos, y estos dependen de un probalidad $p$\n",
        " \n",
        "| $a$ | $b$ |  $c$ | $d$ | $e$ | $f$ |  $p$  |\n",
        "|-----|:---:|-----:|-----|:---:|----:|------:|\n",
        "|  0  |  0  |   0  | 0.16|  0  |  0  |  $0.01$ |\n",
        "| 0.85| 0.04| -0.04| 0.85|  0  | 1.60|$[0.02,0.86]$|\n",
        "| 0.20|-0.26| 0.23 | 0.22|  0  | 1.60|$[0.87,0.93]$|\n",
        "|-0.15| 0.28| 0.26 | 0.24|  0  | 0.44|$[0.94,1.00]$|"
      ]
    },
    {
      "cell_type": "code",
      "execution_count": 3,
      "metadata": {
        "id": "UXFHCeq9qVuD"
      },
      "outputs": [],
      "source": [
        "def volado(n):\n",
        "  for i in range(n):\n",
        "    coef = np.zeros(5)\n",
        "    p = np.random.rand()\n",
        "    #p = random.random()\n",
        "    if p <= 0.01:\n",
        "      coef = np.array([0,0,0,0.16,0,0])\n",
        "    elif p >= 0.02 and p<=0.86:\n",
        "      coef = np.array ([0.85,0.04,-0.04,0.85,0,1.6])  \n",
        "    elif p >= 0.87 and p<=0.93:\n",
        "      coef = np.array([0.2,-0.26,0.23,0.22,0,1.6])\n",
        "    else:\n",
        "      coef = np.array([-0.15,0.28,0.26,0.24,0,0.44])\n",
        "  return coef"
      ]
    },
    {
      "cell_type": "code",
      "execution_count": null,
      "metadata": {
        "colab": {
          "base_uri": "https://localhost:8080/"
        },
        "id": "gT-z5uUxqVuD",
        "outputId": "89525866-9b7f-4743-aeb2-df52e93447de"
      },
      "outputs": [
        {
          "name": "stdout",
          "output_type": "stream",
          "text": [
            "[ 0.85  0.04 -0.04  0.85  0.    1.6 ]\n"
          ]
        }
      ],
      "source": [
        "c = volado(56)\n",
        "print(c)"
      ]
    },
    {
      "cell_type": "markdown",
      "metadata": {
        "id": "bNEV4Q4OqVuE"
      },
      "source": [
        "Por último para generar el helecho, defina una función ```Barsnsley(n)``` que reciba el número de iteraciones $n$ y regrese dos lista con salidas de la función $F(x,y)$. También tome en cuenta los siguiente:\n",
        "\n",
        "* La primer iteración debe de recibir como entrada de $F(x,y)$ el punto $x=0$ y $y=0$.\n",
        "* En cada iteración de debe generar los coefientes de manera aleatoria, usando la función ```volado(n)```, es decir ```n``` debe ser un numero aleatorio. Para generar números aleatorios puede importar ```randint``` de la paquetería ramdom ```from random import randint``` o usar ```np.random.rand()``` de numpy"
      ]
    },
    {
      "cell_type": "code",
      "execution_count": 4,
      "metadata": {
        "id": "vM_WLIj5qVuE"
      },
      "outputs": [],
      "source": [
        "def Barsnley(n):\n",
        "  x=0\n",
        "  y=0\n",
        "  X = []\n",
        "  Y = []\n",
        "  for r in range(n):\n",
        "    m = randint(1,n)\n",
        "    coeffs = volado(m)\n",
        "    mXY = F(np.array([x,y]),coeffs)\n",
        "    x = mXY[0,0]\n",
        "    y = mXY[1,0]\n",
        "    X.append(x)\n",
        "    Y.append(y)\n",
        "  return X,Y\n"
      ]
    },
    {
      "cell_type": "markdown",
      "metadata": {
        "id": "AqIBcs7CqVuE"
      },
      "source": [
        "Ahora grafique las salidas de ```Barsnsley``` (xs,ys) para ello importe ```import matplotlib.pyplot as plt``` y grafique usando.\n",
        "```plt.scatter(xs, ys, s = 0.2, edgecolor ='green')```\n",
        "\n",
        "El resultado tiene que la siguiente imagen"
      ]
    },
    {
      "cell_type": "code",
      "execution_count": 5,
      "metadata": {
        "colab": {
          "base_uri": "https://localhost:8080/",
          "height": 265
        },
        "id": "kXo3JsxXkXE8",
        "outputId": "d3e3fe60-b61d-4558-91c1-22231f0e842e"
      },
      "outputs": [
        {
          "data": {
            "image/png": "[encoded data removed]",
            "text/plain": [
              "<Figure size 432x288 with 1 Axes>"
            ]
          },
          "metadata": {
            "needs_background": "light"
          },
          "output_type": "display_data"
        }
      ],
      "source": [
        "import matplotlib.pyplot as plt\n",
        "X, Y = Barsnley(2000)\n",
        "plt.scatter(X,Y,marker='+', color='g')\n",
        "plt.grid()\n",
        "plt.show()"
      ]
    },
    {
      "cell_type": "markdown",
      "metadata": {
        "id": "mmyVX8T6qVuF"
      },
      "source": [
        "¿Qué pasa si ahora usa los siguientes parametros?\n",
        " \n",
        "| $a$ | $b$ |  $c$ | $d$ |  $e$ | $f$ |  $p$  |\n",
        "|-----|:---:|-----:|-----|:----:|----:|------:|\n",
        "|  0  |  0  |   0  | 0.25|  0   |-0.4 |$[0.00,0.02]$|\n",
        "| 0.95|0.005|-0.005| 0.93|-0.002| 0.5 |$[0.03,0.85]$|\n",
        "|0.035| -0.2| 0.16 | 0.04| -0.09| 0.02|$[0.86,0.93]$|\n",
        "|-0.04| 0.2 | 0.16 | 0.04|-0.083| 0.12|$[0.94,1.00]$|"
      ]
    },
    {
      "cell_type": "code",
      "execution_count": 6,
      "metadata": {
        "id": "R2xDV3Z2qVuF"
      },
      "outputs": [],
      "source": [
        "def volado2(n):\n",
        "  for i in range(n):\n",
        "    coef = np.zeros(5)\n",
        "    p = np.random.rand()\n",
        "    #p = random.random()\n",
        "    if p <= 0.02:\n",
        "      coef = np.array([0,0,0,0.25,0,-0.4])\n",
        "    elif p >= 0.03 and p<=0.85:\n",
        "      coef = np.array ([0.95,0.005,-0.005,0.93,-0.002,0.5])  \n",
        "    elif p >= 0.86 and p<=0.93:\n",
        "      coef = np.array([0.035,-0.2,0.16,0.04,-0.09,0.02])\n",
        "    else:\n",
        "      coef = np.array([-0.04,0.2,0.16,0.04,-0.083,0.12])\n",
        "  return coef"
      ]
    },
    {
      "cell_type": "code",
      "execution_count": 7,
      "metadata": {
        "id": "hxVzR4XSeBml"
      },
      "outputs": [],
      "source": [
        "def Barsnley2(n):\n",
        "  x=0\n",
        "  y=0\n",
        "  X = []\n",
        "  Y = []\n",
        "  for r in range(n):\n",
        "    m = randint(1,n)\n",
        "    coeffs = volado2(m)\n",
        "    mXY = F(np.array([x,y]),coeffs)\n",
        "    x = mXY[0,0]\n",
        "    y = mXY[1,0]\n",
        "    X.append(x)\n",
        "    Y.append(y)\n",
        "  return X,Y"
      ]
    },
    {
      "cell_type": "code",
      "execution_count": 8,
      "metadata": {
        "colab": {
          "base_uri": "https://localhost:8080/",
          "height": 265
        },
        "id": "qFmkoXZ2eb5M",
        "outputId": "f9d2c101-a44f-4047-db2f-b9243f4ada4b"
      },
      "outputs": [
        {
          "data": {
            "image/png": "[encoded data removed]",
            "text/plain": [
              "<Figure size 432x288 with 1 Axes>"
            ]
          },
          "metadata": {
            "needs_background": "light"
          },
          "output_type": "display_data"
        }
      ],
      "source": [
        "import matplotlib.pyplot as plt\n",
        "X, Y = Barsnley2(1000)\n",
        "plt.scatter(X,Y,marker='+', color='g')\n",
        "plt.grid()\n",
        "plt.show()"
      ]
    },
    {
      "cell_type": "markdown",
      "metadata": {
        "id": "8Qn2jGPTqVuF"
      },
      "source": [
        "Ahora modifique ```Barsnsley``` tal que los datos generados se guarden en una Barsnsley.txt. \n",
        "\n",
        "Define una funcíon ```rotation(theta, vector)``` tal que rote un vector $\\vec{v}$ por un ángulo $\\theta$. Recordemos que las matrices de rotación son de la forma:\n",
        "\n",
        "$$ R(\\theta) = \\begin{pmatrix} \n",
        "\\cos(\\theta) & -\\sin(\\theta) \\\\\n",
        "\\sin(\\theta) & \\cos(\\theta)\n",
        "\\end{pmatrix}$$\n",
        "\n",
        "$$R(\\theta)\\vec{v} = \\begin{pmatrix} \n",
        "\\cos(\\theta) & -\\sin(\\theta) \\\\\n",
        "\\sin(\\theta) & \\cos(\\theta)\n",
        "\\end{pmatrix} \\begin{pmatrix} \n",
        "x \\\\\n",
        "y\n",
        "\\end{pmatrix}= \\begin{pmatrix} \n",
        "x\\cos(\\theta) -y\\sin(\\theta) \\\\\n",
        "x\\sin(\\theta) + y\\cos(\\theta) \n",
        "\\end{pmatrix}$$"
      ]
    },
    {
      "cell_type": "code",
      "execution_count": 43,
      "metadata": {
        "id": "hDBv-bIljdUj"
      },
      "outputs": [],
      "source": [
        "def rotation(theta, vector):\n",
        "  v = vector.reshape(2,1)\n",
        "  return v[0,0]*np.cos(theta)-v[1,0]*np.sin(theta), v[0,0]*np.sin(theta)+v[1,0]*np.cos(theta)"
      ]
    },
    {
      "cell_type": "code",
      "execution_count": 44,
      "metadata": {
        "id": "D7j1vYl2lVQU"
      },
      "outputs": [
        {
          "name": "stdout",
          "output_type": "stream",
          "text": [
            "-1.2246467991473532e-16\n"
          ]
        }
      ],
      "source": [
        "angle = np.pi \n",
        "vector = np.array([0,1])\n",
        "xrot,yrot= rotation(angle,vector)\n",
        "print(xrot)"
      ]
    },
    {
      "cell_type": "code",
      "execution_count": 45,
      "metadata": {
        "id": "kuD4eEBEpQLw"
      },
      "outputs": [],
      "source": [
        "def BarsnleyTxt(n):\n",
        "  x=0\n",
        "  y=0\n",
        "  X = []\n",
        "  Y = []\n",
        "  for r in range(n):\n",
        "    m = randint(1,n)\n",
        "    coeffs = volado(m)\n",
        "    mXY = F(np.array([x,y]),coeffs)\n",
        "    x = mXY[0,0]\n",
        "    y = mXY[1,0]\n",
        "    X.append(x)\n",
        "    Y.append(y)\n",
        "  file_name = 'BarnsleyOutput.txt'\n",
        "  with open(file_name,'w') as f:\n",
        "    f.write(\"X\"+\" \"+\"Y\"+\"\\n\")\n",
        "    for item in range(len(X)):\n",
        "      f.write(str(X[item])+\" \"+str(Y[item])+\"\\n\")"
      ]
    },
    {
      "cell_type": "code",
      "execution_count": 46,
      "metadata": {},
      "outputs": [],
      "source": [
        "BarsnleyTxt(1000)"
      ]
    },
    {
      "cell_type": "markdown",
      "metadata": {
        "id": "CxeM28qQqVuG"
      },
      "source": [
        "Ahora sí, por último implemente una función que le aplique una rotación por una ángulo $\\theta$ a cada elemneto de Barsnsley.txt y grafique el resultado."
      ]
    },
    {
      "cell_type": "code",
      "execution_count": 50,
      "metadata": {},
      "outputs": [],
      "source": [
        "def BarnsleyRot(txtFileName,angle):\n",
        "    mfile = open(txtFileName,\"r\")\n",
        "    lines=mfile.readlines()\n",
        "    lines = lines[1:]\n",
        "    Xrot=[]\n",
        "    Yrot=[]\n",
        "    for x in lines:\n",
        "        xe = float(x.split()[0])\n",
        "        ye = float(x.split()[1])\n",
        "        xrot,yrot = rotation(angle,np.array([xe,ye]))\n",
        "        Xrot.append(xrot)\n",
        "        Yrot.append(yrot)\n",
        "    mfile.close()\n",
        "    plt.scatter(Xrot,Yrot,marker='+', color='g')\n",
        "    plt.grid()\n",
        "    plt.show()\n"
      ]
    },
    {
      "cell_type": "code",
      "execution_count": 57,
      "metadata": {},
      "outputs": [
        {
          "data": {
            "image/png": "[encoded data removed]",
            "text/plain": [
              "<Figure size 432x288 with 1 Axes>"
            ]
          },
          "metadata": {
            "needs_background": "light"
          },
          "output_type": "display_data"
        }
      ],
      "source": [
        "angle = np.pi/4\n",
        "myfile=\"BarnsleyOutput.txt\"\n",
        "BarnsleyRot(myfile,angle)"
      ]
    }
  ],
  "metadata": {
    "colab": {
      "collapsed_sections": [],
      "name": "Helecho.ipynb",
      "provenance": []
    },
    "kernelspec": {
      "display_name": "Python 3",
      "language": "python",
      "name": "python3"
    },
    "language_info": {
      "codemirror_mode": {
        "name": "ipython",
        "version": 3
      },
      "file_extension": ".py",
      "mimetype": "text/x-python",
      "name": "python",
      "nbconvert_exporter": "python",
      "pygments_lexer": "ipython3",
      "version": "3.9.7"
    }
  },
  "nbformat": 4,
  "nbformat_minor": 0
}
