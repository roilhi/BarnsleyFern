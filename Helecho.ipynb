{
  "cells": [
    {
      "cell_type": "markdown",
      "metadata": {
        "id": "R9OPE4iOqVty"
      },
      "source": [
        "# El helecho de Barsnsley"
      ]
    },
    {
      "cell_type": "markdown",
      "metadata": {
        "id": "50qqyMH_qVt3"
      },
      "source": [
        "El helecho de Barsnsley es el resultado de iterar la siguiente función\n",
        "\n",
        "\\begin{equation}\n",
        "   F(x,y)=\\begin{pmatrix} \n",
        "a & b \\\\\n",
        "c & d \n",
        "\\end{pmatrix}\n",
        "\\begin{pmatrix} \n",
        "x  \\\\\n",
        "y  \n",
        "\\end{pmatrix} + \\begin{pmatrix} \n",
        "e \\\\\n",
        "f\n",
        "\\end{pmatrix}\n",
        "\\end{equation}\n",
        "\n",
        "La cual está definida por casos, y estos dependen de un probalidad $p$\n",
        " \n",
        "| $a$ | $b$ |  $c$ | $d$ | $e$ | $f$ |  $p$  |\n",
        "|-----|:---:|-----:|-----|:---:|----:|------:|\n",
        "|  0  |  0  |   0  | 0.16|  0  |  0  |  $0.01$ |\n",
        "| 0.85| 0.04| -0.04| 0.85|  0  | 1.60|$[0.02,0.86]$|\n",
        "| 0.20|-0.26| 0.23 | 0.22|  0  | 1.60|$[0.87,0.93]$|\n",
        "|-0.15| 0.28| 0.26 | 0.24|  0  | 0.44|$[0.94,1.00]$|"
      ]
    },
    {
      "cell_type": "markdown",
      "metadata": {
        "id": "5NesaLUjqVt4"
      },
      "source": [
        "Usando el objeto ```matrix``` de ```numpy``` defina una función llamada ```F(lista1, lista2)``` que reciba justo dos argumentos, el primer debe ser una lista con los variables $x$ y $y$. Y el segundo argumento debe ser una seguda lista con los coeficientes ($a, b, \\dots , e$).\n",
        "\n",
        "La funcion ```F()``` debe de convertir las repesctivas entradas para que se puedan realizar las respectivas operaciones de matrices."
      ]
    },
    {
      "cell_type": "code",
      "execution_count": 1,
      "metadata": {
        "id": "k9d-KWeNqVt5"
      },
      "outputs": [],
      "source": [
        "# Importando las librerías necesarias\n",
        "import numpy as np\n",
        "from random import *"
      ]
    },
    {
      "cell_type": "markdown",
      "metadata": {},
      "source": [
        "Creando la función $F(x,y)$, donde $x$ es la lista 1 e $y$ es la lista 2. La salida será un vector con el resultado de la multiplicación de la matriz de coeficientes $a$, $b$, $c$, $d$ y $e$ con el vector $[x,y]$"
      ]
    },
    {
      "cell_type": "code",
      "execution_count": 3,
      "metadata": {
        "id": "pJQXTjcfqVuB"
      },
      "outputs": [],
      "source": [
        "def F(lista1, lista2):\n",
        "    \"\"\" Función que toma dos listas como argumentos de entrada\n",
        "    con los coeficientes del helecho de Barnsley l:\n",
        "   a) lista1 es de la forma array([x, y])\n",
        "   b) lista2 es de la forma array([a,b,c,d,e,f])\n",
        "   Sea X el vector de coeficientes [x,y] y M la matriz de coeficientes\n",
        "   [a,b][c,d], sea V un vector de coeficientes [e,f] \n",
        "   La salida de la función será F=M*X+V \n",
        "   Ejemplo: \n",
        "   lista1 = np.array[1,0]\n",
        "   lista2 = np.array[1,2,3,4,5,6]\n",
        "   R = F(lista1,lista2)\"\"\"\n",
        "   # Se reordenan los elementos de la lista1 [x,y] en un arreglo de tamaño 2x1\n",
        "    X = np.matrix(lista1.reshape(2,1))\n",
        "    # Se toman los primeros 4 elements de la lista2 [a,b,c,d] y se reordenan \n",
        "    # en una matriz de tamaño 2X2 a la cual se llamará M\n",
        "    M = np.matrix(lista2[:4].reshape(2, 2))\n",
        "    # Se toman los 2 últimos coeficientes [e,f] de la lista2 y se reordenan en un vector\n",
        "    # llamado V\n",
        "    V = np.matrix(lista2[4:].reshape(2,1))\n",
        "    # La función regresa la operación matricial del Arreglo de Barnsley, multiplicar la matriz\n",
        "    # M de coeficientes por el vector X de incógnitas más los coeficientes restantes V\n",
        "    return M*X + V"
      ]
    },
    {
      "cell_type": "markdown",
      "metadata": {},
      "source": [
        "Probando $F(x,y)$ suponiendo que $x=1$, $y=0$, $a=1$, $b=2$, $c=3$, $d=4$, $e=5$, $f=6$. "
      ]
    },
    {
      "cell_type": "code",
      "execution_count": 4,
      "metadata": {
        "colab": {
          "base_uri": "https://localhost:8080/"
        },
        "id": "nnoqXYitqVuC",
        "outputId": "c82b46e2-b5da-4e3b-cc82-f00ccda33da9"
      },
      "outputs": [
        {
          "data": {
            "text/plain": [
              "matrix([[6],\n",
              "        [9]])"
            ]
          },
          "execution_count": 4,
          "metadata": {},
          "output_type": "execute_result"
        }
      ],
      "source": [
        "F(np.array([1, 0]), np.array([1, 2, 3, 4, 5, 6]))"
      ]
    },
    {
      "cell_type": "markdown",
      "metadata": {
        "id": "8idlK7Z-qVuC"
      },
      "source": [
        "Codifique una segunda función llamada ```volado(n)``` de tal manera que asigne los repectivo valores de los coeficientes para casa valor de $p$. "
      ]
    },
    {
      "cell_type": "markdown",
      "metadata": {
        "id": "sExTMiVbh_LX"
      },
      "source": [
        "La cual está definida por casos, y estos dependen de un probalidad $p$\n",
        " \n",
        "| $a$ | $b$ |  $c$ | $d$ | $e$ | $f$ |  $p$  |\n",
        "|-----|:---:|-----:|-----|:---:|----:|------:|\n",
        "|  0  |  0  |   0  | 0.16|  0  |  0  |  $0.01$ |\n",
        "| 0.85| 0.04| -0.04| 0.85|  0  | 1.60|$[0.02,0.86]$|\n",
        "| 0.20|-0.26| 0.23 | 0.22|  0  | 1.60|$[0.87,0.93]$|\n",
        "|-0.15| 0.28| 0.26 | 0.24|  0  | 0.44|$[0.94,1.00]$|"
      ]
    },
    {
      "cell_type": "code",
      "execution_count": 5,
      "metadata": {
        "id": "UXFHCeq9qVuD"
      },
      "outputs": [],
      "source": [
        "def volado(n):\n",
        "  \"\"\" Función que da como salida un arreglo vectorial de un renglón\n",
        "  con la generación aleatoria de los coeficientes [a,b,c,d,e,f] del\n",
        "  helecho de Barnsley. Los coeficientes se generan de manera iterada\n",
        "  de acuerdo con el valor aleatorio p de una probabilidad que va de 0 a 1.\n",
        "  La entrada es un argumento n con el número deseado de iteraciones\n",
        "  Ejemplo: coeffs = volado(n) donde n es un entero\"\"\"\n",
        "  for i in range(n):\n",
        "    # Se crea un arreglo lleno de ceros para inicializar la salida\n",
        "    coef = np.zeros(5)\n",
        "    # Se genera de manera aleatoria la probabilidad, es un número que va entre \n",
        "    # 0 y 1\n",
        "    p = np.random.rand()\n",
        "    # Si el valor aleatorio obtenido p es menor a 0.01\n",
        "    if p <= 0.01:\n",
        "      # Se llenan los coeficientes correspondientes cuando p<0.01\n",
        "      coef = np.array([0,0,0,0.16,0,0])\n",
        "    # Si el valor aleatorio obtenido p está entre 0.02 y 0.86\n",
        "    elif p >= 0.02 and p<=0.86:\n",
        "    # Se llenan los coeficientes correspondientes al intervalo [0.02, 0.86]\n",
        "      coef = np.array ([0.85,0.04,-0.04,0.85,0,1.6])  \n",
        "    # Si el valor aleatorio obtenido p está entre 0.02 y 0.86\n",
        "    elif p >= 0.87 and p<=0.93:\n",
        "    # Se llenan los coeficientes correspondientes al intervalo [0.87, 0.93]\n",
        "      coef = np.array([0.2,-0.26,0.23,0.22,0,1.6])\n",
        "    else:\n",
        "      # Arreglo de salida en el caso restante, cuando p>0.93\n",
        "      coef = np.array([-0.15,0.28,0.26,0.24,0,0.44])\n",
        "  return coef"
      ]
    },
    {
      "cell_type": "markdown",
      "metadata": {},
      "source": [
        "Probando la función de generación aleatoria de coeficientes para un valor $n=56$"
      ]
    },
    {
      "cell_type": "code",
      "execution_count": 6,
      "metadata": {
        "colab": {
          "base_uri": "https://localhost:8080/"
        },
        "id": "gT-z5uUxqVuD",
        "outputId": "89525866-9b7f-4743-aeb2-df52e93447de"
      },
      "outputs": [
        {
          "name": "stdout",
          "output_type": "stream",
          "text": [
            "[ 0.85  0.04 -0.04  0.85  0.    1.6 ]\n"
          ]
        }
      ],
      "source": [
        "c = volado(56)\n",
        "print(c)"
      ]
    },
    {
      "cell_type": "markdown",
      "metadata": {
        "id": "bNEV4Q4OqVuE"
      },
      "source": [
        "Por último para generar el helecho, defina una función ```Barsnsley(n)``` que reciba el número de iteraciones $n$ y regrese dos lista con salidas de la función $F(x,y)$. También tome en cuenta los siguiente:\n",
        "\n",
        "* La primer iteración debe de recibir como entrada de $F(x,y)$ el punto $x=0$ y $y=0$.\n",
        "* En cada iteración de debe generar los coefientes de manera aleatoria, usando la función ```volado(n)```, es decir ```n``` debe ser un numero aleatorio. Para generar números aleatorios puede importar ```randint``` de la paquetería ramdom ```from random import randint``` o usar ```np.random.rand()``` de numpy"
      ]
    },
    {
      "cell_type": "code",
      "execution_count": 7,
      "metadata": {
        "id": "vM_WLIj5qVuE"
      },
      "outputs": [],
      "source": [
        "def Barsnley(n):\n",
        "  \"\"\" Función que retorna las salidas (x,y) del helecho de Barnsley\n",
        "  como dos listas X, para un número de iteraciones \"n\" como argumento de entrada.\n",
        "  Ejemplo: X,Y = Barnsley(n), donde n es un entero \"\"\"\n",
        "  # Inicializando valor de las salidas (x,y)\n",
        "  x=0\n",
        "  y=0\n",
        "  # Se inicializan las listas donde se guardarán los resultados de la operación\n",
        "  X = []\n",
        "  Y = []\n",
        "  # Se realiza la iteración en n veces\n",
        "  for r in range(n):\n",
        "    # Se crea un número aleatorio entre 1 y n para asignar a la variable volado\n",
        "    m = randint(1,n)\n",
        "    # Se generan los coeficientes [a,b,c,d,e] de forma aleatoria usando la función volado\n",
        "    coeffs = volado(m)\n",
        "    # Se realiza la multiplicación R=M*X+V\n",
        "    mXY = F(np.array([x,y]),coeffs)\n",
        "    # Se guarda el nuevo valor de x generado\n",
        "    x = mXY[0,0]\n",
        "    # Se guarda el nuevo valor de y generado\n",
        "    y = mXY[1,0]\n",
        "    # Se guarda el valor en las listas\n",
        "    X.append(x)\n",
        "    Y.append(y)\n",
        "  return X,Y\n"
      ]
    },
    {
      "cell_type": "markdown",
      "metadata": {
        "id": "AqIBcs7CqVuE"
      },
      "source": [
        "Ahora grafique las salidas de ```Barsnsley``` (xs,ys) para ello importe ```import matplotlib.pyplot as plt``` y grafique usando.\n",
        "```plt.scatter(xs, ys, s = 0.2, edgecolor ='green')```\n",
        "\n",
        "El resultado tiene que la siguiente imagen"
      ]
    },
    {
      "cell_type": "code",
      "execution_count": 8,
      "metadata": {
        "colab": {
          "base_uri": "https://localhost:8080/",
          "height": 265
        },
        "id": "kXo3JsxXkXE8",
        "outputId": "d3e3fe60-b61d-4558-91c1-22231f0e842e"
      },
      "outputs": [
        {
          "data": {
            "image/png": "[encoded data removed]",
            "text/plain": [
              "<Figure size 432x288 with 1 Axes>"
            ]
          },
          "metadata": {
            "needs_background": "light"
          },
          "output_type": "display_data"
        }
      ],
      "source": [
        "import matplotlib.pyplot as plt\n",
        "# Llamando a la función Barnsley y dando como salida las dos listas respectivas\n",
        "X, Y = Barsnley(2000)\n",
        "# Generando el gráfico tipo scatter usando matplotlib\n",
        "plt.scatter(X,Y,marker='+', color='g')\n",
        "plt.grid()\n",
        "plt.show()"
      ]
    },
    {
      "cell_type": "markdown",
      "metadata": {
        "id": "mmyVX8T6qVuF"
      },
      "source": [
        "¿Qué pasa si ahora usa los siguientes parametros?\n",
        " \n",
        "| $a$ | $b$ |  $c$ | $d$ |  $e$ | $f$ |  $p$  |\n",
        "|-----|:---:|-----:|-----|:----:|----:|------:|\n",
        "|  0  |  0  |   0  | 0.25|  0   |-0.4 |$[0.00,0.02]$|\n",
        "| 0.95|0.005|-0.005| 0.93|-0.002| 0.5 |$[0.03,0.85]$|\n",
        "|0.035| -0.2| 0.16 | 0.04| -0.09| 0.02|$[0.86,0.93]$|\n",
        "|-0.04| 0.2 | 0.16 | 0.04|-0.083| 0.12|$[0.94,1.00]$|"
      ]
    },
    {
      "cell_type": "code",
      "execution_count": 9,
      "metadata": {
        "id": "R2xDV3Z2qVuF"
      },
      "outputs": [],
      "source": [
        "def volado2(n):\n",
        "  \"\"\" Función que da como salida un arreglo vectorial de un renglón\n",
        "  con la generación aleatoria de los coeficientes [a,b,c,d,e,f] del\n",
        "  helecho de Barnsley. Los coeficientes se generan de manera iterada\n",
        "  de acuerdo con el valor aleatorio p de una probabilidad que va de 0 a 1.\n",
        "  La entrada es un argumento n con el número deseado de iteraciones\n",
        "  Ejemplo: coeffs = volado2(n) donde n es un entero\n",
        "  Dado que los coeficientes son diferentes a la función volado, se cambia\n",
        "  el nombre por volado2\"\"\"\n",
        "  for i in range(n):\n",
        "    coef = np.zeros(5)\n",
        "    p = np.random.rand()\n",
        "    #p = random.random()\n",
        "    if p <= 0.02:\n",
        "      coef = np.array([0,0,0,0.25,0,-0.4])\n",
        "    elif p >= 0.03 and p<=0.85:\n",
        "      coef = np.array ([0.95,0.005,-0.005,0.93,-0.002,0.5])  \n",
        "    elif p >= 0.86 and p<=0.93:\n",
        "      coef = np.array([0.035,-0.2,0.16,0.04,-0.09,0.02])\n",
        "    else:\n",
        "      coef = np.array([-0.04,0.2,0.16,0.04,-0.083,0.12])\n",
        "  return coef"
      ]
    },
    {
      "cell_type": "code",
      "execution_count": 10,
      "metadata": {
        "id": "hxVzR4XSeBml"
      },
      "outputs": [],
      "source": [
        "def Barsnley2(n):\n",
        "  \"\"\" Función que retorna las salidas (x,y) del helecho de Barnsley\n",
        "  como dos listas X, para un número de iteraciones \"n\" como argumento de entrada.\n",
        "  Ejemplo: X,Y = Barnsley2(n), donde n es un entero \n",
        "  Dado que esta función usa coeficientes diferentes al tomar volado2, se llamará\n",
        "  Barnsley 2\"\"\"\n",
        "  x=0\n",
        "  y=0\n",
        "  X = []\n",
        "  Y = []\n",
        "  for r in range(n):\n",
        "    m = randint(1,n)\n",
        "    coeffs = volado2(m)\n",
        "    mXY = F(np.array([x,y]),coeffs)\n",
        "    x = mXY[0,0]\n",
        "    y = mXY[1,0]\n",
        "    X.append(x)\n",
        "    Y.append(y)\n",
        "  return X,Y"
      ]
    },
    {
      "cell_type": "code",
      "execution_count": 11,
      "metadata": {
        "colab": {
          "base_uri": "https://localhost:8080/",
          "height": 265
        },
        "id": "qFmkoXZ2eb5M",
        "outputId": "f9d2c101-a44f-4047-db2f-b9243f4ada4b"
      },
      "outputs": [
        {
          "data": {
            "image/png": "[encoded data removed]",
            "text/plain": [
              "<Figure size 432x288 with 1 Axes>"
            ]
          },
          "metadata": {
            "needs_background": "light"
          },
          "output_type": "display_data"
        }
      ],
      "source": [
        "import matplotlib.pyplot as plt\n",
        "# Generando los coeficientes mediante Barnsley2\n",
        "X, Y = Barsnley2(1000)\n",
        "# Generando la gráfica mediante matplotlib\n",
        "plt.scatter(X,Y,marker='+', color='g')\n",
        "plt.grid()\n",
        "plt.show()"
      ]
    },
    {
      "cell_type": "markdown",
      "metadata": {
        "id": "8Qn2jGPTqVuF"
      },
      "source": [
        "Ahora modifique ```Barsnsley``` tal que los datos generados se guarden en una Barsnsley.txt. \n",
        "\n",
        "Define una funcíon ```rotation(theta, vector)``` tal que rote un vector $\\vec{v}$ por un ángulo $\\theta$. Recordemos que las matrices de rotación son de la forma:\n",
        "\n",
        "$$ R(\\theta) = \\begin{pmatrix} \n",
        "\\cos(\\theta) & -\\sin(\\theta) \\\\\n",
        "\\sin(\\theta) & \\cos(\\theta)\n",
        "\\end{pmatrix}$$\n",
        "\n",
        "$$R(\\theta)\\vec{v} = \\begin{pmatrix} \n",
        "\\cos(\\theta) & -\\sin(\\theta) \\\\\n",
        "\\sin(\\theta) & \\cos(\\theta)\n",
        "\\end{pmatrix} \\begin{pmatrix} \n",
        "x \\\\\n",
        "y\n",
        "\\end{pmatrix}= \\begin{pmatrix} \n",
        "x\\cos(\\theta) -y\\sin(\\theta) \\\\\n",
        "x\\sin(\\theta) + y\\cos(\\theta) \n",
        "\\end{pmatrix}$$"
      ]
    },
    {
      "cell_type": "code",
      "execution_count": 12,
      "metadata": {
        "id": "hDBv-bIljdUj"
      },
      "outputs": [],
      "source": [
        "def rotation(theta, vector):\n",
        "  \"\"\" Función que toma un vector llamado vector y \n",
        "  lo rota a un ángulo theta. La salida son los\n",
        "  valores del vector rotado. Ojo: deberá tener un tamaño 2x1\n",
        "  Ejemplo: \n",
        "  theta = np.pi/2\n",
        "  v = [1,3]\n",
        "  xrot,yrot = rotation(theta, v) \"\"\"\n",
        "  # Re-ordenando el tamaño del vector a (2,1) para poder realizar la multiplicación\n",
        "  try:\n",
        "    v = vector.reshape(2,1)\n",
        "    return v[0,0]*np.cos(theta)-v[1,0]*np.sin(theta), v[0,0]*np.sin(theta)+v[1,0]*np.cos(theta)\n",
        "  except:\n",
        "    print(\"Error: el arreglo no es de dimensiones 1X2\")"
      ]
    },
    {
      "cell_type": "markdown",
      "metadata": {},
      "source": [
        "Probando la función de rotación con un ángulo  $\\theta=\\pi$ y un vector $X=[0,1]$"
      ]
    },
    {
      "cell_type": "code",
      "execution_count": 23,
      "metadata": {
        "id": "D7j1vYl2lVQU"
      },
      "outputs": [
        {
          "name": "stdout",
          "output_type": "stream",
          "text": [
            "Arreglo original = [ 0  1]\n",
            "Arreglo con rotación = [ -1.2246467991473532e-16  -1.0]\n"
          ]
        }
      ],
      "source": [
        "# Valor del ángulo theta := pi := 180 grados\n",
        "angle = np.pi \n",
        "# Valor de un vector de dos dimensiones v=[0,1] ([x,y])\n",
        "vector = np.array([0,1])\n",
        "# Salidas del vector con rotación en los valores [x,y]\n",
        "xrot,yrot= rotation(angle,vector)\n",
        "print(f'Arreglo original = [ {vector[0]}  {vector[1]}]')\n",
        "print(f'Arreglo con rotación = [ {xrot}  {yrot}]')"
      ]
    },
    {
      "cell_type": "code",
      "execution_count": 24,
      "metadata": {
        "id": "kuD4eEBEpQLw"
      },
      "outputs": [],
      "source": [
        "def BarsnleyTxt(n):\n",
        "  \"\"\" Función que escribe las salidas (x,y) del helecho de Barnsley\n",
        "  en un archivo llamado BarnsleyOutput.txt\n",
        "  El argumento de entrada es un número de iteraciones \"n\".\n",
        "  Ejemplo: Barnsley2(n), donde n es un entero genera el archivo\n",
        "  BarnsleyOutput.txt con las salidas de valores x,y\"\"\"\n",
        "  x=0\n",
        "  y=0\n",
        "  X = []\n",
        "  Y = []\n",
        "  for r in range(n):\n",
        "    m = randint(1,n)\n",
        "    coeffs = volado(m)\n",
        "    mXY = F(np.array([x,y]),coeffs)\n",
        "    x = mXY[0,0]\n",
        "    y = mXY[1,0]\n",
        "    X.append(x)\n",
        "    Y.append(y)\n",
        "  # Dando el nombre del archivo\n",
        "  file_name = 'BarnsleyOutput.txt'\n",
        "  # Para abrir y escribir en el archivo, se guarda en una\n",
        "  # variable llamada f\n",
        "  with open(file_name,'w') as f:\n",
        "    # Se escribe el encabezado en el primer renglón\n",
        "    f.write(\"X\"+\" \"+\"Y\"+\"\\n\")\n",
        "    # Se escriben los valores de salida de la función\n",
        "    # en el resto de los renglones\n",
        "    for item in range(len(X)):\n",
        "      f.write(str(X[item])+\" \"+str(Y[item])+\"\\n\")"
      ]
    },
    {
      "cell_type": "markdown",
      "metadata": {},
      "source": [
        "Probando la función Barnsley que genera el archivo de texto"
      ]
    },
    {
      "cell_type": "code",
      "execution_count": 25,
      "metadata": {},
      "outputs": [],
      "source": [
        "nTest = 1000\n",
        "BarsnleyTxt(nTest)"
      ]
    },
    {
      "cell_type": "markdown",
      "metadata": {
        "id": "CxeM28qQqVuG"
      },
      "source": [
        "Ahora sí, por último implemente una función que le aplique una rotación por una ángulo $\\theta$ a cada elemneto de Barsnsley.txt y grafique el resultado."
      ]
    },
    {
      "cell_type": "code",
      "execution_count": 26,
      "metadata": {},
      "outputs": [],
      "source": [
        "def BarnsleyRot(txtFileName,angle):\n",
        "    \"\"\" Función que lee un archivo de texto de nombre txtFileName\n",
        "    la cual contiene los valores generados del helecho de Barnsley\n",
        "    dado por BarnsleyTxt(n). El segundo argumento de entrada es\n",
        "    un ángulo \"angle\" dado en radianes, por el cual se rotarán los\n",
        "    valores vectoriales que se encuentran en el archivo de texto. \"\"\"\n",
        "    # Se abre el archivo .txt\n",
        "    mfile = open(txtFileName,\"r\")\n",
        "    # Se guardan los rengloneds del archivo en la lista \"lines\"\n",
        "    lines= mfile.readlines()\n",
        "    # Se quita el valor del encabezado [X  Y] ya que son valores string\n",
        "    # no numéricos\n",
        "    lines = lines[1:]\n",
        "    # Lista que guardará los valores X de la rotación\n",
        "    Xrot=[]\n",
        "    # Lista que guardará los valores Y de la rotación\n",
        "    Yrot=[]\n",
        "    for x in lines:\n",
        "        # Convierte a numérico el primer valor de la línea (x)\n",
        "        xe = float(x.split()[0])\n",
        "        # Convierte a numérico el segundo valor de la línea (y)\n",
        "        ye = float(x.split()[1])\n",
        "        # Se rotan los valores obtenidos de las líneas del texto\n",
        "        xrot,yrot = rotation(angle,np.array([xe,ye]))\n",
        "        # Se guardan los valores rotados\n",
        "        Xrot.append(xrot)\n",
        "        Yrot.append(yrot)\n",
        "    # Se deberá cerrar el archivo    \n",
        "    mfile.close()\n",
        "    # Se realiza la gráfica 'scatter' por medio de matplotlib\n",
        "    plt.scatter(Xrot,Yrot,marker='+', color='g')\n",
        "    plt.grid()\n",
        "    plt.show()\n"
      ]
    },
    {
      "cell_type": "markdown",
      "metadata": {},
      "source": [
        "Se prueba la función de Rotación de Barnsley para un ángulo $\\theta=\\frac{\\pi}{4}$"
      ]
    },
    {
      "cell_type": "code",
      "execution_count": 27,
      "metadata": {},
      "outputs": [
        {
          "data": {
            "image/png": "[encoded data removed]",
            "text/plain": [
              "<Figure size 432x288 with 1 Axes>"
            ]
          },
          "metadata": {
            "needs_background": "light"
          },
          "output_type": "display_data"
        }
      ],
      "source": [
        "# Ángulo de rotación\n",
        "angle = np.pi/4\n",
        "# Nombre del archivo txt con valores para la rotación\n",
        "myfile=\"BarnsleyOutput.txt\"\n",
        "# Se llama la función de rotación y graficación\n",
        "BarnsleyRot(myfile,angle)"
      ]
    }
  ],
  "metadata": {
    "colab": {
      "collapsed_sections": [],
      "name": "Helecho.ipynb",
      "provenance": []
    },
    "kernelspec": {
      "display_name": "Python 3",
      "language": "python",
      "name": "python3"
    },
    "language_info": {
      "codemirror_mode": {
        "name": "ipython",
        "version": 3
      },
      "file_extension": ".py",
      "mimetype": "text/x-python",
      "name": "python",
      "nbconvert_exporter": "python",
      "pygments_lexer": "ipython3",
      "version": "3.9.4"
    }
  },
  "nbformat": 4,
  "nbformat_minor": 0
}
